{
 "cells": [
  {
   "cell_type": "code",
   "execution_count": null,
   "metadata": {
    "vscode": {
     "languageId": "plaintext"
    }
   },
   "outputs": [],
   "source": [
    "from selenium import webdriver\n",
    "from selenium.webdriver.common.by import By\n",
    "PATH = \"C:\\Program Files\\chromedriver\\chromedriver.exe\"\n",
    "driver = webdriver.Chrome(PATH)\n",
    "driver.get(\"https://www.like4like.org/login/\")\n",
    "username = driver.find_element(By.ID,'username')\n",
    "username.send_keys(\"hello\")\n"
   ]
  },
  {
   "cell_type": "markdown",
   "metadata": {},
   "source": [
    "C:\\ProgramData\\Anaconda3\\lib\\site-packages\\ipykernel_launcher.py:4: DeprecationWarning: executable_path has been deprecated,\n",
    "please pass in a Service object\n",
    "after removing the cwd from sys.path."
   ]
  },
  {
   "cell_type": "code",
   "execution_count": null,
   "metadata": {
    "vscode": {
     "languageId": "plaintext"
    }
   },
   "outputs": [],
   "source": [
    "from selenium import webdriver\n",
    "from selenium.webdriver.common.by import By\n",
    "PATH = \"C:\\Program Files\\chromedriver\\chromedriver.exe\"\n",
    "driver = webdriver.Chrome(PATH)\n",
    "driver.get(\"https://www.like4like.org/login/\")\n",
    "password = driver.find_element(By.TAG_NAME,'label') and driver.find_element(By.CLASS_NAME,'bold') and driver.find_element(By.\n",
    "print(password.text)"
   ]
  },
  {
   "cell_type": "markdown",
   "metadata": {},
   "source": [
    "C:\\ProgramData\\Anaconda3\\lib\\site-packages\\ipykernel_launcher.py:4: DeprecationWarning: executable_path has been deprecated,\n",
    "please pass in a Service object\n",
    "after removing the cwd from sys.path.\n",
    "Password:\n"
   ]
  },
  {
   "cell_type": "code",
   "execution_count": null,
   "metadata": {
    "vscode": {
     "languageId": "plaintext"
    }
   },
   "outputs": [],
   "source": [
    "from selenium import webdriver\n",
    "from selenium.webdriver.common.by import By\n",
    "PATH = \"C:\\Program Files\\chromedriver\\chromedriver.exe\"\n",
    "driver = webdriver.Chrome(PATH)\n",
    "driver.get(\"https://www.facebook.com/signup\")\n",
    "password = driver.find_element(By.CLASS_NAME,\"inputtext _58mg _5dba _2ph-\")\n",
    "password.send_keys(\"3234\")"
   ]
  },
  {
   "cell_type": "markdown",
   "metadata": {},
   "source": [
    "C:\\ProgramData\\Anaconda3\\lib\\site-packages\\ipykernel_launcher.py:4: DeprecationWarning: executable_path has been depreca\n",
    "ted, please pass in a Service object\n",
    "after removing the cwd from sys.path.\n"
   ]
  },
  {
   "cell_type": "markdown",
   "metadata": {},
   "source": [
    "---------------------------------------------------------------------------\n",
    "KeyboardInterrupt Traceback (most recent call last)\n",
    "<ipython-input-1-889bb535babc> in <module>\n",
    " 3 PATH = \"C:\\Program Files\\chromedriver\\chromedriver.exe\"\n",
    " 4 driver = webdriver.Chrome(PATH)\n",
    "----> 5 driver.get(\"https://www.facebook.com/signup\")\n",
    " 6 password = driver.find_element(By.CLASS_NAME,\"inputtext _58mg _5dba _2ph-\")\n",
    " 7 password.send_keys(\"3234\")\n",
    "C:\\ProgramData\\Anaconda3\\lib\\site-packages\\selenium\\webdriver\\remote\\webdriver.py in get(self, url)\n",
    " 447 def get(self, url: str) -> None:\n",
    " 448 \"\"\"Loads a web page in the current browser session.\"\"\"\n",
    "--> 449 self.execute(Command.GET, {\"url\": url})\n",
    " 450\n",
    " 451 @property"
   ]
  }
 ],
 "metadata": {
  "language_info": {
   "name": "python"
  }
 },
 "nbformat": 4,
 "nbformat_minor": 2
}

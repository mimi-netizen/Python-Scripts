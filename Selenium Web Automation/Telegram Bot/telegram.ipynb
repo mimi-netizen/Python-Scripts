{
 "cells": [
  {
   "cell_type": "markdown",
   "metadata": {},
   "source": [
    "### Search BotFather on Telegram\n",
    "#### Click get started\n",
    "![](image/1.jpg)\n",
    "![](image/2.jpg)\n",
    "![](image/3.jpg)"
   ]
  },
  {
   "cell_type": "code",
   "execution_count": 2,
   "metadata": {},
   "outputs": [],
   "source": [
    "api = 'your-api'\n",
    "group_id = 'https://t.me/cdk_bot21'\n"
   ]
  },
  {
   "cell_type": "code",
   "execution_count": 5,
   "metadata": {},
   "outputs": [
    {
     "name": "stdout",
     "output_type": "stream",
     "text": [
      "200\n",
      "{'ok': True, 'result': {'message_id': 2, 'from': {'id': 7415414908, 'is_bot': True, 'first_name': 'Automation', 'username': 'cdk2bot'}, 'chat': {'id': -1002344715147, 'title': 'cdk-bot', 'username': 'cdk_bot21', 'type': 'supergroup'}, 'date': 1737025354, 'text': 'Hello'}}\n"
     ]
    }
   ],
   "source": [
    "import requests\n",
    "from urllib.parse import quote\n",
    "\n",
    "bot_id = 'your-api'\n",
    "chat_id = '@cdk_bot21'  # Updated to correct channel username\n",
    "message = input('Enter the message: ')\n",
    "\n",
    "# URL encode the message\n",
    "encoded_message = quote(message)\n",
    "\n",
    "url = f\"https://api.telegram.org/bot{bot_id}/sendMessage?chat_id={chat_id}&text={encoded_message}\"\n",
    "response = requests.get(url)\n",
    "print(response.status_code)\n",
    "print(response.json() if response.ok else response.text)"
   ]
  },
  {
   "cell_type": "markdown",
   "metadata": {},
   "source": [
    "https://docs.google.com/spreadsheets/d/1d4Ez0Q2GjfUVqDvMO62ELAoZDMJZvVR5PDWQtEFA20A/edit?usp=sharing\n"
   ]
  },
  {
   "cell_type": "code",
   "execution_count": null,
   "metadata": {},
   "outputs": [],
   "source": [
    "import pandas\n",
    "import requests\n",
    "import time\n",
    "from urllib.parse import quote\n",
    "from datetime import datetime, timedelta\n",
    "\n",
    "while True:\n",
    "    # Google Sheet configuration\n",
    "    sheet_id = '1d4Ez0Q2GjfUVqDvMO62ELAoZDMJZvVR5PDWQtEFA20A'\n",
    "    url = f\"https://docs.google.com/spreadsheets/d/{sheet_id}/gviz/tq?tqx=out:csv\"\n",
    "    \n",
    "    # Read and process the data\n",
    "    df = pandas.read_csv(url)\n",
    "    df['time'] = pandas.to_datetime(df['time'], format='%d/%m/%Y %H:%M:%S')  # Specified format\n",
    "    \n",
    "    # Filter data for the last minute\n",
    "    previous_minute = datetime.now() - timedelta(minutes=1)\n",
    "    current_time = datetime.now()\n",
    "    df = df[(df['time'] > previous_minute) & (df['time'] < current_time)]\n",
    "    \n",
    "    def send_message(row):\n",
    "        bot_id = 'your-api'\n",
    "        chat_id = '@cdk_bot21'\n",
    "        message = quote(str(row[0]))  # URL encode the message\n",
    "        url = f\"https://api.telegram.org/bot{bot_id}/sendMessage?chat_id={chat_id}&text={message}\"\n",
    "        try:\n",
    "            response = requests.get(url)\n",
    "            return response.json()\n",
    "        except Exception as e:\n",
    "            return str(e)\n",
    "    \n",
    "    # Send messages if there's new data\n",
    "    if not df.empty:\n",
    "        df['status'] = df.apply(send_message, axis=1)\n",
    "        print(f\"Processed {len(df)} messages at {current_time}\")\n",
    "    \n",
    "    # Wait for 60 seconds before next check\n",
    "    time.sleep(60)"
   ]
  }
 ],
 "metadata": {
  "kernelspec": {
   "display_name": "Python 3",
   "language": "python",
   "name": "python3"
  },
  "language_info": {
   "codemirror_mode": {
    "name": "ipython",
    "version": 3
   },
   "file_extension": ".py",
   "mimetype": "text/x-python",
   "name": "python",
   "nbconvert_exporter": "python",
   "pygments_lexer": "ipython3",
   "version": "3.10.11"
  }
 },
 "nbformat": 4,
 "nbformat_minor": 2
}

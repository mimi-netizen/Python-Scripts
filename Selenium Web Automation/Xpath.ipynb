{
 "cells": [
  {
   "cell_type": "code",
   "execution_count": null,
   "metadata": {
    "vscode": {
     "languageId": "plaintext"
    }
   },
   "outputs": [],
   "source": [
    "from selenium import webdriver\n",
    "from selenium.webdriver.common.by import By\n",
    "PATH = \"C:\\Program Files\\chromedriver\\chromedriver.exe\"\n",
    "driver = webdriver.Chrome(PATH)\n",
    "driver.get(\"file:///C:/Users/neamat/Desktop/CSS_SELECTOR.html\")\n",
    "firstname = driver.find_element(By.XPATH,\"/html/body/div/form/input[@id='firstname']\")\n",
    "# lastname = driver.find_element(By.XPATH,\"//input[@id='lastname']\")\n",
    "firstname.send_keys(\"Neamat andishamnd\")\n",
    "# lastname.send_keys(\"Andishmand\")"
   ]
  },
  {
   "cell_type": "markdown",
   "metadata": {},
   "source": [
    "C:\\ProgramData\\Anaconda3\\lib\\site-packages\\ipykernel_launcher.py:4: DeprecationWarning: executable_path has been deprecated,\n",
    "please pass in a Service object\n",
    "after removing the cwd from sys.path.\n"
   ]
  },
  {
   "cell_type": "code",
   "execution_count": null,
   "metadata": {
    "vscode": {
     "languageId": "plaintext"
    }
   },
   "outputs": [],
   "source": [
    "from selenium import webdriver\n",
    "from selenium.webdriver.common.by import By\n",
    "PATH = \"C:\\Program Files\\chromedriver\\chromedriver.exe\"\n",
    "driver = webdriver.Chrome(PATH)\n",
    "driver.get(\"https://www.facebook.com/signup\")\n",
    "firstname = driver.find_element(By.XPATH,\"//input[contains(@id,'0_b')]\")\n",
    "# lastname = driver.find_element(By.XPATH,\"//input[@id='lastname']\")\n",
    "firstname.send_keys(\"Neamatullah\")\n",
    "# lastname.send_keys(\"Andishmand\")"
   ]
  },
  {
   "cell_type": "markdown",
   "metadata": {},
   "source": [
    "C:\\ProgramData\\Anaconda3\\lib\\site-packages\\ipykernel_launcher.py:4: DeprecationWarning: executable_path has been deprecated,\n",
    "please pass in a Service object\n",
    "after removing the cwd from sys.path.\n"
   ]
  },
  {
   "cell_type": "code",
   "execution_count": null,
   "metadata": {
    "vscode": {
     "languageId": "plaintext"
    }
   },
   "outputs": [],
   "source": [
    "from selenium import webdriver\n",
    "from selenium.webdriver.common.by import By\n",
    "PATH = \"C:\\Program Files\\chromedriver\\chromedriver.exe\"\n",
    "driver = webdriver.Chrome(PATH)\n",
    "driver.get(\"https://www.facebook.com/signup\")\n",
    "link = driver.find_element(By.XPATH,\"//a[text()='Already have an account?']\")\n",
    "link.click()"
   ]
  },
  {
   "cell_type": "markdown",
   "metadata": {},
   "source": [
    "C:\\ProgramData\\Anaconda3\\lib\\site-packages\\ipykernel_launcher.py:4: DeprecationWarning: executable_path has been deprecated,\n",
    "please pass in a Service object\n",
    "after removing the cwd from sys.path.\n"
   ]
  }
 ],
 "metadata": {
  "language_info": {
   "name": "python"
  }
 },
 "nbformat": 4,
 "nbformat_minor": 2
}

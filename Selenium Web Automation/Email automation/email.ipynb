{
 "cells": [
  {
   "cell_type": "markdown",
   "metadata": {},
   "source": [
    "## sending text email"
   ]
  },
  {
   "cell_type": "code",
   "execution_count": 6,
   "metadata": {},
   "outputs": [
    {
     "name": "stdout",
     "output_type": "stream",
     "text": [
      "the message sent!\n"
     ]
    }
   ],
   "source": [
    "import smtplib\n",
    "from email.mime.multipart import MIMEMultipart\n",
    "from email.mime.text import MIMEText\n",
    "from email.mime.application import MIMEApplication\n",
    "\n",
    "my_email = 'celynekydd@gmail.com'\n",
    "app_password = ''  # Replace with your 16-character App Password\n",
    "\n",
    "s = smtplib.SMTP(host='smtp.gmail.com', port=587)\n",
    "s.starttls()\n",
    "s.login(my_email, app_password)\n",
    "\n",
    "msg = MIMEMultipart()\n",
    "msg['From'] = my_email\n",
    "msg['To'] = input('enter the email address: ')\n",
    "msg['Subject'] = input('enter the subject for email: ')\n",
    "message = input('enter the text message: ')\n",
    "msg.attach(MIMEText(message, 'plain'))\n",
    "\n",
    "s.send_message(msg)\n",
    "print('the message sent!')"
   ]
  },
  {
   "cell_type": "markdown",
   "metadata": {},
   "source": [
    "## sending text and file with email\n"
   ]
  },
  {
   "cell_type": "code",
   "execution_count": 7,
   "metadata": {},
   "outputs": [
    {
     "name": "stdout",
     "output_type": "stream",
     "text": [
      "Message sent successfully!\n"
     ]
    }
   ],
   "source": [
    "import smtplib\n",
    "from email.mime.multipart import MIMEMultipart\n",
    "from email.mime.text import MIMEText\n",
    "from email.mime.application import MIMEApplication\n",
    "import os\n",
    "\n",
    "try:\n",
    "    my_email = 'celynekydd@gmail.com'\n",
    "    password = ''\n",
    "\n",
    "    # Create SMTP session\n",
    "    s = smtplib.SMTP(host='smtp.gmail.com', port=587)\n",
    "    s.starttls()\n",
    "    s.login(my_email, password)\n",
    "\n",
    "    # Create message\n",
    "    msg = MIMEMultipart()\n",
    "    msg['From'] = my_email\n",
    "    msg['To'] = input('Enter the email address: ')\n",
    "    msg['Subject'] = input('Enter the subject for email: ')\n",
    "    message = input('Enter the text message: ')\n",
    "    msg.attach(MIMEText(message, 'plain'))\n",
    "\n",
    "    # Attach PDF file\n",
    "    file_path = input('Enter the PDF file path (e.g., file.pdf): ')\n",
    "    if os.path.exists(file_path):\n",
    "        with open(file_path, 'rb') as file:\n",
    "            pdf = MIMEApplication(file.read(), name=os.path.basename(file_path))\n",
    "            pdf.add_header('Content-Disposition', 'attachment', filename=os.path.basename(file_path))\n",
    "            msg.attach(pdf)\n",
    "    else:\n",
    "        print(f\"File not found: {file_path}\")\n",
    "        exit()\n",
    "\n",
    "    # Send email\n",
    "    s.send_message(msg)\n",
    "    print('Message sent successfully!')\n",
    "    s.quit()\n",
    "\n",
    "except smtplib.SMTPAuthenticationError:\n",
    "    print(\"Authentication failed. Please check your email and password.\")\n",
    "except FileNotFoundError:\n",
    "    print(\"PDF file not found. Please check the file path.\")\n",
    "except Exception as e:\n",
    "    print(f\"An error occurred: {str(e)}\")"
   ]
  },
  {
   "cell_type": "markdown",
   "metadata": {},
   "source": [
    "## schedule printing text\n"
   ]
  },
  {
   "cell_type": "code",
   "execution_count": 9,
   "metadata": {},
   "outputs": [
    {
     "name": "stdout",
     "output_type": "stream",
     "text": [
      "Scheduler started. Press Ctrl+C to stop.\n",
      "[11:30:47] Hello from team (every 3 seconds)\n",
      "[11:30:50] Hello from team (every 3 seconds)\n",
      "[11:30:53] Hello from team (every 3 seconds)\n",
      "[11:30:56] Hello from team (every 3 seconds)\n",
      "[11:30:59] Hello from team (every 3 seconds)\n",
      "[11:31:02] Hello from team (every 3 seconds)\n",
      "[11:31:05] Hello from team (every 3 seconds)\n",
      "[11:31:08] Hello from team (every 3 seconds)\n",
      "[11:31:11] Hello from team (every 3 seconds)\n",
      "[11:31:14] Hello from team (every 3 seconds)\n",
      "[11:31:17] Hello from team (every 3 seconds)\n",
      "\n",
      "Scheduler stopped.\n"
     ]
    }
   ],
   "source": [
    "import schedule\n",
    "import time\n",
    "from datetime import datetime\n",
    "\n",
    "def print_message(message):\n",
    "    current_time = datetime.now().strftime('%H:%M:%S')\n",
    "    print(f\"[{current_time}] {message}\")\n",
    "\n",
    "# Different scheduling examples\n",
    "schedule.every(3).seconds.do(print_message, \"Hello from team (every 3 seconds)\")\n",
    "schedule.every().minute.do(print_message, \"Message every minute\")\n",
    "schedule.every().hour.do(print_message, \"Hourly message\")\n",
    "schedule.every().day.at(\"10:30\").do(print_message, \"Daily message at 10:30\")\n",
    "schedule.every().monday.do(print_message, \"Monday message\")\n",
    "\n",
    "print(\"Scheduler started. Press Ctrl+C to stop.\")\n",
    "\n",
    "try:\n",
    "    while True:\n",
    "        schedule.run_pending()\n",
    "        time.sleep(1)\n",
    "except KeyboardInterrupt:\n",
    "    print(\"\\nScheduler stopped.\")"
   ]
  },
  {
   "cell_type": "markdown",
   "metadata": {},
   "source": [
    "## schedule sending message"
   ]
  },
  {
   "cell_type": "code",
   "execution_count": 10,
   "metadata": {},
   "outputs": [
    {
     "name": "stdout",
     "output_type": "stream",
     "text": [
      "\n",
      "Select scheduling option:\n",
      "1. Every X seconds\n",
      "2. Daily at specific time\n",
      "3. Weekly on specific day and time\n",
      "\n",
      "Scheduler started. Press Ctrl+C to stop.\n",
      "[11:35:43] Hello from team (every 3 seconds)\n",
      "[11:35:43] Message every minute\n",
      "[11:35:51] Email sent successfully!\n",
      "[11:35:51] Hello from team (every 3 seconds)\n",
      "[11:35:54] Hello from team (every 3 seconds)\n",
      "[11:35:58] Email sent successfully!\n",
      "[11:35:59] Hello from team (every 3 seconds)\n",
      "[11:36:04] Email sent successfully!\n",
      "[11:36:05] Hello from team (every 3 seconds)\n",
      "[11:36:11] Email sent successfully!\n",
      "[11:36:12] Hello from team (every 3 seconds)\n",
      "\n",
      "Scheduler stopped.\n"
     ]
    }
   ],
   "source": [
    "import schedule\n",
    "import time\n",
    "import smtplib\n",
    "from email.mime.multipart import MIMEMultipart\n",
    "from email.mime.text import MIMEText\n",
    "from datetime import datetime\n",
    "\n",
    "def create_email_session():\n",
    "    try:\n",
    "        s = smtplib.SMTP(host='smtp.gmail.com', port=587)\n",
    "        s.starttls()\n",
    "        s.login(my_email, password)\n",
    "        return s\n",
    "    except Exception as e:\n",
    "        print(f\"Error creating email session: {str(e)}\")\n",
    "        return None\n",
    "\n",
    "def send_email():\n",
    "    try:\n",
    "        # Create new session for each email\n",
    "        s = create_email_session()\n",
    "        if s:\n",
    "            s.send_message(msg)\n",
    "            current_time = datetime.now().strftime('%H:%M:%S')\n",
    "            print(f\"[{current_time}] Email sent successfully!\")\n",
    "            s.quit()\n",
    "    except Exception as e:\n",
    "        print(f\"Error sending email: {str(e)}\")\n",
    "\n",
    "# Email configuration\n",
    "my_email = 'celynekydd@gmail.com'\n",
    "password = ''\n",
    "\n",
    "# Create message\n",
    "msg = MIMEMultipart()\n",
    "msg['From'] = my_email\n",
    "msg['To'] = input('Enter the email address: ')\n",
    "msg['Subject'] = input('Enter the subject for email: ')\n",
    "message = input('Enter the text message: ')\n",
    "msg.attach(MIMEText(message, 'plain'))\n",
    "\n",
    "# Schedule options\n",
    "print(\"\\nSelect scheduling option:\")\n",
    "print(\"1. Every X seconds\")\n",
    "print(\"2. Daily at specific time\")\n",
    "print(\"3. Weekly on specific day and time\")\n",
    "\n",
    "choice = input(\"Enter your choice (1-3): \")\n",
    "\n",
    "if choice == '1':\n",
    "    seconds = int(input(\"Enter seconds interval: \"))\n",
    "    schedule.every(seconds).seconds.do(send_email)\n",
    "elif choice == '2':\n",
    "    time_str = input(\"Enter time (HH:MM format): \")\n",
    "    schedule.every().day.at(time_str).do(send_email)\n",
    "elif choice == '3':\n",
    "    days = ['monday', 'tuesday', 'wednesday', 'thursday', 'friday', 'saturday', 'sunday']\n",
    "    print(\"Available days:\", ', '.join(days))\n",
    "    day = input(\"Enter day: \").lower()\n",
    "    time_str = input(\"Enter time (HH:MM format): \")\n",
    "    getattr(schedule.every(), day).at(time_str).do(send_email)\n",
    "\n",
    "print(\"\\nScheduler started. Press Ctrl+C to stop.\")\n",
    "count = 0\n",
    "\n",
    "try:\n",
    "    while True:\n",
    "        schedule.run_pending()\n",
    "        time.sleep(1)\n",
    "except KeyboardInterrupt:\n",
    "    print(\"\\nScheduler stopped.\")"
   ]
  }
 ],
 "metadata": {
  "kernelspec": {
   "display_name": "Python 3",
   "language": "python",
   "name": "python3"
  },
  "language_info": {
   "codemirror_mode": {
    "name": "ipython",
    "version": 3
   },
   "file_extension": ".py",
   "mimetype": "text/x-python",
   "name": "python",
   "nbconvert_exporter": "python",
   "pygments_lexer": "ipython3",
   "version": "3.10.11"
  }
 },
 "nbformat": 4,
 "nbformat_minor": 2
}

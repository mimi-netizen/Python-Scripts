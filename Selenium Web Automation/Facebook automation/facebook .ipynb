{
 "cells": [
  {
   "cell_type": "code",
   "execution_count": null,
   "metadata": {},
   "outputs": [],
   "source": [
    "pip install facebook-sdk"
   ]
  },
  {
   "cell_type": "markdown",
   "metadata": {},
   "source": [
    "## Get access token from developers.facebook.com\n",
    "![](image/1.jpg)\n",
    "![](image/2.jpg)\n",
    "![](image/3.jpg)\n",
    "![](image/4.jpg)\n",
    "![](image/5.jpg)"
   ]
  },
  {
   "cell_type": "markdown",
   "metadata": {},
   "source": [
    "## Puting a post on facebook\n"
   ]
  },
  {
   "cell_type": "code",
   "execution_count": null,
   "metadata": {},
   "outputs": [],
   "source": [
    "import facebook\n",
    "# access_token = 'EAANIVuPxkH0BAAkpVJfJIlW3NBa5L8LIjXTyW6sH8GXDEeFKmqsrgIwbJlCUZBnBvcsJR8ewXYMxZAsAwuZC5tHzJpNUDLgtZCIwDZAcSj\n",
    "access_token = 'EAANIVuPxkH0BANJYJRn6p94x9uOz6zCDd4A8XPN19QsQ8QHZAP98RiDlhcfi5IocrZCBOTFXhmOUnQvUwZAAgOcQdRqXOvVZA1iQPZAjCVlZ\n",
    "fb_obj = facebook.GraphAPI(access_token)\n",
    "f_post = fb_obj.put_object(parent_object='me',connection_name='feed',message=\"hello from exploitchip team!\")\n",
    "f_post['id']\n"
   ]
  },
  {
   "cell_type": "markdown",
   "metadata": {},
   "source": [
    "## Posting an image on facebook page\n"
   ]
  },
  {
   "cell_type": "code",
   "execution_count": null,
   "metadata": {},
   "outputs": [],
   "source": [
    "image_post = fb_obj.put_photo(image=open('p.png','rb'),message='find phone number location using python!')\n",
    "image_post"
   ]
  },
  {
   "cell_type": "markdown",
   "metadata": {},
   "source": [
    "## Putting a comment in a post\n"
   ]
  },
  {
   "cell_type": "code",
   "execution_count": null,
   "metadata": {},
   "outputs": [],
   "source": [
    "# image_post['post_id']\n",
    "post_comment = fb_obj.put_object(parent_object=image_post['post_id'],connection_name='comments',message='Wow it is great!')\n",
    "post_comment\n"
   ]
  },
  {
   "cell_type": "markdown",
   "metadata": {},
   "source": [
    "## putting a like in a post\n"
   ]
  },
  {
   "cell_type": "code",
   "execution_count": null,
   "metadata": {},
   "outputs": [],
   "source": [
    "like_post = fb_obj.put_like(image_post['post_id'])\n",
    "like_post\n"
   ]
  },
  {
   "cell_type": "markdown",
   "metadata": {},
   "source": [
    "## Deleting post from facebook\n"
   ]
  },
  {
   "cell_type": "code",
   "execution_count": null,
   "metadata": {},
   "outputs": [],
   "source": [
    "delete_post = fb_obj.delete_object(image_post['post_id'])\n",
    "delete_post\n",
    "all youtube links\n"
   ]
  },
  {
   "cell_type": "markdown",
   "metadata": {},
   "source": [
    "## Posting youtube links in facebook page\n"
   ]
  },
  {
   "cell_type": "code",
   "execution_count": null,
   "metadata": {},
   "outputs": [],
   "source": [
    "import pandas as pd\n",
    "import time\n",
    "df = pd.read_csv('exploithcip_youtube.csv')\n",
    "video_title = df['video title'].to_list()\n",
    "video_links = df['video links']\n",
    "size = len(df)\n",
    "count = 0\n",
    "for i in range(size):\n",
    " count += 1\n",
    " fb_obj.put_object(parent_object='me',connection_name='feed',message = video_title[i], link = video_links[i])\n",
    " print(count,' links are uplouded!')"
   ]
  },
  {
   "cell_type": "markdown",
   "metadata": {},
   "source": [
    "## Posting youtube links on facebook groups"
   ]
  },
  {
   "cell_type": "code",
   "execution_count": null,
   "metadata": {},
   "outputs": [],
   "source": [
    "from selenium import webdriver\n",
    "from webdriver_manager.chrome import ChromeDriverManager\n",
    "from selenium.webdriver.common.by import By\n",
    "from selenium.webdriver.common.keys import Keys\n",
    "import time\n",
    "from time import sleep\n",
    "groups_links_list = [\n",
    " 'https://www.facebook.com/groups/kalitut',\n",
    " 'https://www.facebook.com/groups/programmershub1',\n",
    " 'https://www.facebook.com/groups/KaliLinuxHackingTutorial',\n",
    " 'https://www.facebook.com/groups/mechmassofficials',\n",
    " 'https://www.facebook.com/groups/987610444589223',\n",
    "]\n",
    "message = \"\"\"Hello friends Here another python cool Project take a look!.\n",
    "Link: https://youtu.be/W2mT0a1nLOE\"\"\"\n",
    "photo = 'D:\\\\udemy\\\\ptyhon automation projects\\\\Facebook-Group-Bot-main\\\\thumbnail.PNG'\n",
    "options = webdriver.ChromeOptions()\n",
    "options.add_argument(\"start-maximized\")\n",
    "options.add_argument(\n",
    " \"user-data-dir=C:\\\\Users\\\\neamat\\AppData\\\\Local\\\\Google\\\\Chrome Beta\\\\User Data\\\\User Data\")\n",
    "options.binary_location = \"C:\\Program Files\\Google\\Chrome Beta\\Application\\chrome.exe\"\n",
    "driver = webdriver.Chrome(\n",
    " executable_path=ChromeDriverManager().install(), options=options)\n",
    "driver.get('https://www.facebook.com/')\n",
    "def main():\n",
    " for group in groups_links_list:\n",
    " driver.get(group)\n",
    " time.sleep(10)\n",
    " driver.find_element(By.XPATH, '//span[text()=\"Photo/video\"]').click()\n",
    " time.sleep(5)\n",
    " photo_element = driver.find_element(\n",
    " By.XPATH, '//input[@multiple and @type=\"file\" and @class=\"x1s85apg\"]')\n",
    " photo_element.send_keys(photo)\n",
    " time.sleep(10)\n",
    " driver.find_element(\n",
    " By.XPATH, '//*[@class=\"_1mf _1mj\"]').send_keys(message)\n",
    " time.sleep(50)\n",
    " post_button = driver.find_element(\n",
    " By.XPATH, '//div/span/span[text()=\"Post\"]')\n",
    " post_button.click()\n",
    " time.sleep(10)\n",
    " driver.close()\n",
    " print(\"all the links are uplouded successfully!\")\n",
    "if __name__ == '__main__':\n",
    " main()"
   ]
  }
 ],
 "metadata": {
  "kernelspec": {
   "display_name": "Python 3",
   "language": "python",
   "name": "python3"
  },
  "language_info": {
   "codemirror_mode": {
    "name": "ipython",
    "version": 3
   },
   "file_extension": ".py",
   "mimetype": "text/x-python",
   "name": "python",
   "nbconvert_exporter": "python",
   "pygments_lexer": "ipython3",
   "version": "3.10.11"
  }
 },
 "nbformat": 4,
 "nbformat_minor": 2
}
